{
 "cells": [
  {
   "cell_type": "code",
   "execution_count": 1,
   "metadata": {},
   "outputs": [],
   "source": [
    "import pdb, os, pickle,json \n",
    "import math \n",
    "import random\n",
    "import pandas as pd\n",
    "import numpy as np \n",
    "from scipy.stats import ttest_rel,ttest_ind, ttest_1samp \n",
    "from matplotlib import pyplot as plt \n",
    "import seaborn as snum_seeds \n",
    "from sklearn.metrics import adjusted_rand_score \n",
    "from humanUtils import * \n",
    "from cswHumanDatabase import load_final_df, load_dfs \n",
    "from analysis import * \n",
    "from utils import * \n",
    "%load_ext autoreload\n",
    "%autoreload 2\n",
    "snum_seeds.set_context('talk')\n",
    "%matplotlib inline\n",
    "plt.rcParams['font.size'] = 22\n",
    "condL = ['blocked','interleaved','early','middle','late']\n",
    "\n"
   ]
  },
  {
   "attachments": {},
   "cell_type": "markdown",
   "metadata": {},
   "source": [
    "Here are the parameters for you to toggle"
   ]
  },
  {
   "cell_type": "code",
   "execution_count": null,
   "metadata": {},
   "outputs": [],
   "source": [
    "sim_name = \"my_sim\"\n",
    "schema_inference_off = True \n",
    "concentration = 1\n",
    "stickiness = 1\n",
    "sparsity = 1\n",
    "n_train = 1\n",
    "n_test = 1\n",
    "num_seeds = 1\n",
    "args = {'sem': {'beta2': 0, 'skipt1': schema_inference_off, 'ppd_allsch': 0}, 'sch': {'concentration': concentration, 'stickiness_wi': stickiness, 'stickiness_bt': stickiness, 'sparsity': sparsity, 'pvar': 0, 'lrate': 1, 'lratep': 1, 'decay_rate': 1}, 'exp': {'condition': None, 'n_train': n_train, 'n_test': n_test}}\n"
   ]
  },
  {
   "cell_type": "code",
   "execution_count": 2,
   "metadata": {
    "scrolled": true
   },
   "outputs": [
    {
     "name": "stdout",
     "output_type": "stream",
     "text": [
      "sim1\n",
      "> \u001b[0;32m/var/folders/pf/tt62zb815q137j4hg0_k1hwr0000gn/T/ipykernel_77818/2925978517.py\u001b[0m(17)\u001b[0;36m<cell line: 3>\u001b[0;34m()\u001b[0m\n",
      "\u001b[0;32m     15 \u001b[0;31m  \u001b[0;31m# these two simulations have the concentration paramater value varied\u001b[0m\u001b[0;34m\u001b[0m\u001b[0;34m\u001b[0m\u001b[0;34m\u001b[0m\u001b[0m\n",
      "\u001b[0m\u001b[0;32m     16 \u001b[0;31m  \u001b[0;31m# across seeds\u001b[0m\u001b[0;34m\u001b[0m\u001b[0;34m\u001b[0m\u001b[0;34m\u001b[0m\u001b[0m\n",
      "\u001b[0m\u001b[0;32m---> 17 \u001b[0;31m  \u001b[0;32mif\u001b[0m \u001b[0;34m(\u001b[0m\u001b[0msim_name\u001b[0m \u001b[0;34m==\u001b[0m \u001b[0;34m\"sim3\"\u001b[0m \u001b[0;32mor\u001b[0m \u001b[0msim_name\u001b[0m \u001b[0;34m==\u001b[0m \u001b[0;34m\"sim4\"\u001b[0m\u001b[0;34m)\u001b[0m\u001b[0;34m:\u001b[0m\u001b[0;34m\u001b[0m\u001b[0;34m\u001b[0m\u001b[0m\n",
      "\u001b[0m\u001b[0;32m     18 \u001b[0;31m    \u001b[0mconcentration_sd\u001b[0m \u001b[0;34m=\u001b[0m \u001b[0;36m0.3\u001b[0m\u001b[0;34m\u001b[0m\u001b[0;34m\u001b[0m\u001b[0m\n",
      "\u001b[0m\u001b[0;32m     19 \u001b[0;31m    \u001b[0mconcentration_lb\u001b[0m \u001b[0;34m=\u001b[0m \u001b[0;36m0\u001b[0m\u001b[0;34m\u001b[0m\u001b[0;34m\u001b[0m\u001b[0m\n",
      "\u001b[0m\n",
      "{'sem': {'beta2': 0, 'skipt1': 0.0, 'ppd_allsch': 0}, 'sch': {'concentration': 4.77501608449607, 'stickiness_wi': 96.79198472087737, 'stickiness_bt': 96.79198472087737, 'sparsity': 0.0505801755348152, 'pvar': 0, 'lrate': 1, 'lratep': 1, 'decay_rate': 1}, 'exp': {'condition': None, 'n_train': 160, 'n_test': 40}}\n"
     ]
    },
    {
     "ename": "BdbQuit",
     "evalue": "",
     "output_type": "error",
     "traceback": [
      "\u001b[0;31m---------------------------------------------------------------------------\u001b[0m",
      "\u001b[0;31mBdbQuit\u001b[0m                                   Traceback (most recent call last)",
      "\u001b[1;32m/Users/rosskempner/Desktop/Documents/Research/compmem/csw_paper_final/new_simulation_sandbox.ipynb Cell 4\u001b[0m in \u001b[0;36m<cell line: 3>\u001b[0;34m()\u001b[0m\n\u001b[1;32m     <a href='vscode-notebook-cell:/Users/rosskempner/Desktop/Documents/Research/compmem/csw_paper_final/new_simulation_sandbox.ipynb#W2sZmlsZQ%3D%3D?line=13'>14</a>\u001b[0m pdb\u001b[39m.\u001b[39mset_trace()\n\u001b[1;32m     <a href='vscode-notebook-cell:/Users/rosskempner/Desktop/Documents/Research/compmem/csw_paper_final/new_simulation_sandbox.ipynb#W2sZmlsZQ%3D%3D?line=14'>15</a>\u001b[0m \u001b[39m# these two simulations have the concentration paramater value varied\u001b[39;00m\n\u001b[1;32m     <a href='vscode-notebook-cell:/Users/rosskempner/Desktop/Documents/Research/compmem/csw_paper_final/new_simulation_sandbox.ipynb#W2sZmlsZQ%3D%3D?line=15'>16</a>\u001b[0m \u001b[39m# across seeds \u001b[39;00m\n\u001b[0;32m---> <a href='vscode-notebook-cell:/Users/rosskempner/Desktop/Documents/Research/compmem/csw_paper_final/new_simulation_sandbox.ipynb#W2sZmlsZQ%3D%3D?line=16'>17</a>\u001b[0m \u001b[39mif\u001b[39;00m (sim_name \u001b[39m==\u001b[39m \u001b[39m\"\u001b[39m\u001b[39msim3\u001b[39m\u001b[39m\"\u001b[39m \u001b[39mor\u001b[39;00m sim_name \u001b[39m==\u001b[39m \u001b[39m\"\u001b[39m\u001b[39msim4\u001b[39m\u001b[39m\"\u001b[39m):\n\u001b[1;32m     <a href='vscode-notebook-cell:/Users/rosskempner/Desktop/Documents/Research/compmem/csw_paper_final/new_simulation_sandbox.ipynb#W2sZmlsZQ%3D%3D?line=17'>18</a>\u001b[0m   concentration_sd \u001b[39m=\u001b[39m \u001b[39m0.3\u001b[39m\n\u001b[1;32m     <a href='vscode-notebook-cell:/Users/rosskempner/Desktop/Documents/Research/compmem/csw_paper_final/new_simulation_sandbox.ipynb#W2sZmlsZQ%3D%3D?line=18'>19</a>\u001b[0m   concentration_lb \u001b[39m=\u001b[39m \u001b[39m0\u001b[39m\n",
      "\u001b[1;32m/Users/rosskempner/Desktop/Documents/Research/compmem/csw_paper_final/new_simulation_sandbox.ipynb Cell 4\u001b[0m in \u001b[0;36m<cell line: 3>\u001b[0;34m()\u001b[0m\n\u001b[1;32m     <a href='vscode-notebook-cell:/Users/rosskempner/Desktop/Documents/Research/compmem/csw_paper_final/new_simulation_sandbox.ipynb#W2sZmlsZQ%3D%3D?line=13'>14</a>\u001b[0m pdb\u001b[39m.\u001b[39mset_trace()\n\u001b[1;32m     <a href='vscode-notebook-cell:/Users/rosskempner/Desktop/Documents/Research/compmem/csw_paper_final/new_simulation_sandbox.ipynb#W2sZmlsZQ%3D%3D?line=14'>15</a>\u001b[0m \u001b[39m# these two simulations have the concentration paramater value varied\u001b[39;00m\n\u001b[1;32m     <a href='vscode-notebook-cell:/Users/rosskempner/Desktop/Documents/Research/compmem/csw_paper_final/new_simulation_sandbox.ipynb#W2sZmlsZQ%3D%3D?line=15'>16</a>\u001b[0m \u001b[39m# across seeds \u001b[39;00m\n\u001b[0;32m---> <a href='vscode-notebook-cell:/Users/rosskempner/Desktop/Documents/Research/compmem/csw_paper_final/new_simulation_sandbox.ipynb#W2sZmlsZQ%3D%3D?line=16'>17</a>\u001b[0m \u001b[39mif\u001b[39;00m (sim_name \u001b[39m==\u001b[39m \u001b[39m\"\u001b[39m\u001b[39msim3\u001b[39m\u001b[39m\"\u001b[39m \u001b[39mor\u001b[39;00m sim_name \u001b[39m==\u001b[39m \u001b[39m\"\u001b[39m\u001b[39msim4\u001b[39m\u001b[39m\"\u001b[39m):\n\u001b[1;32m     <a href='vscode-notebook-cell:/Users/rosskempner/Desktop/Documents/Research/compmem/csw_paper_final/new_simulation_sandbox.ipynb#W2sZmlsZQ%3D%3D?line=17'>18</a>\u001b[0m   concentration_sd \u001b[39m=\u001b[39m \u001b[39m0.3\u001b[39m\n\u001b[1;32m     <a href='vscode-notebook-cell:/Users/rosskempner/Desktop/Documents/Research/compmem/csw_paper_final/new_simulation_sandbox.ipynb#W2sZmlsZQ%3D%3D?line=18'>19</a>\u001b[0m   concentration_lb \u001b[39m=\u001b[39m \u001b[39m0\u001b[39m\n",
      "File \u001b[0;32m~/opt/anaconda3/envs/interleaved_blocked_modeling/lib/python3.8/bdb.py:88\u001b[0m, in \u001b[0;36mBdb.trace_dispatch\u001b[0;34m(self, frame, event, arg)\u001b[0m\n\u001b[1;32m     86\u001b[0m     \u001b[39mreturn\u001b[39;00m \u001b[39m# None\u001b[39;00m\n\u001b[1;32m     87\u001b[0m \u001b[39mif\u001b[39;00m event \u001b[39m==\u001b[39m \u001b[39m'\u001b[39m\u001b[39mline\u001b[39m\u001b[39m'\u001b[39m:\n\u001b[0;32m---> 88\u001b[0m     \u001b[39mreturn\u001b[39;00m \u001b[39mself\u001b[39;49m\u001b[39m.\u001b[39;49mdispatch_line(frame)\n\u001b[1;32m     89\u001b[0m \u001b[39mif\u001b[39;00m event \u001b[39m==\u001b[39m \u001b[39m'\u001b[39m\u001b[39mcall\u001b[39m\u001b[39m'\u001b[39m:\n\u001b[1;32m     90\u001b[0m     \u001b[39mreturn\u001b[39;00m \u001b[39mself\u001b[39m\u001b[39m.\u001b[39mdispatch_call(frame, arg)\n",
      "File \u001b[0;32m~/opt/anaconda3/envs/interleaved_blocked_modeling/lib/python3.8/bdb.py:113\u001b[0m, in \u001b[0;36mBdb.dispatch_line\u001b[0;34m(self, frame)\u001b[0m\n\u001b[1;32m    111\u001b[0m \u001b[39mif\u001b[39;00m \u001b[39mself\u001b[39m\u001b[39m.\u001b[39mstop_here(frame) \u001b[39mor\u001b[39;00m \u001b[39mself\u001b[39m\u001b[39m.\u001b[39mbreak_here(frame):\n\u001b[1;32m    112\u001b[0m     \u001b[39mself\u001b[39m\u001b[39m.\u001b[39muser_line(frame)\n\u001b[0;32m--> 113\u001b[0m     \u001b[39mif\u001b[39;00m \u001b[39mself\u001b[39m\u001b[39m.\u001b[39mquitting: \u001b[39mraise\u001b[39;00m BdbQuit\n\u001b[1;32m    114\u001b[0m \u001b[39mreturn\u001b[39;00m \u001b[39mself\u001b[39m\u001b[39m.\u001b[39mtrace_dispatch\n",
      "\u001b[0;31mBdbQuit\u001b[0m: "
     ]
    }
   ],
   "source": [
    "\n",
    "exp_batch_data, concentrationValue_each_seed,_,_  = run_batch_exp_curr(num_seeds,args,condL,concentration_info = None)\n",
    "# unpack and save\n",
    "exp = np.stack([exp_batch_data[c][s]['exp'] for c in range(5) for s in range(num_seeds)]).reshape(5,num_seeds,200,5)\n",
    "zt = np.stack([exp_batch_data[c][s]['zt'] for c in range(5) for s in range(num_seeds)]).reshape(5,num_seeds,200,5)\n",
    "xth = np.stack([exp_batch_data[c][s]['xth'].argmax(-1) for c in range(5) for s in range(num_seeds)]).reshape(5,num_seeds,200,5)\n",
    "acc = unpack_acc(exp_batch_data,mean_over_tsteps=True)\n",
    "np.save(f'data/model/{sim_name}-acc',acc)\n",
    "np.save(f'data/model/{sim_name}-exp',exp)\n",
    "np.save(f'data/model/{sim_name}-zt',zt)\n",
    "np.save(f'data/model/{sim_name}-xth' ,xth)\n",
    "np.save(f'data/model/{sim_name}-alpha' ,np.array(concentrationValue_each_seed))\n",
    "# for each of the condition types (blocked, interleaved, early, middle, late)\n",
    "for cix in range(5):\n",
    "    # for each seed\n",
    "    for six in range(num_seeds):\n",
    "      # and trial number\n",
    "      for trix in range(200):\n",
    "        # get the concentration value if sim 3 or sim 4\n",
    "        if (sim_name == \"sim3\" or sim_name == \"sim4\"):\n",
    "          # get the concentration value for this condition and seed \n",
    "          a = concentrationValue_each_seed[cix][six]  \n",
    "        else:\n",
    "          # otherwise just mark it -1000 (this avoids pandas issues later on)\n",
    "          a = -1000\n",
    "        model_acc_df_list.append({\n",
    "          'gs':sim_name,\n",
    "          'alpha':a, # concentration value\n",
    "          'cond':cix, # condition\n",
    "          'seed':six, # seed\n",
    "          'trial':trix, # trial\n",
    "          'acc':acc[cix,six,trix] # get accuracy for this conditon, seed, trial\n",
    "                                # unpack_acc function averages over tstep in trial\n",
    "        })\n",
    "        for tstep in range(5):\n",
    "          model_states_df_list.append({\n",
    "          'gs':sim_name,\n",
    "          'alpha':a,\n",
    "          'cond':cix,\n",
    "          'seed':six,\n",
    "          'trial':trix,\n",
    "          'tstep':tstep,\n",
    "          'exp':exp[cix,six,trix,tstep],\n",
    "          'zt':zt[cix,six,trix,tstep],\n",
    "          'xth':xth[cix,six,trix,tstep]\n",
    "          })\n",
    "model_acc_df = pd.DataFrame(model_acc_df_list)\n",
    "model_states_df = pd.DataFrame(model_states_df_list)\n",
    "# make a test column\n",
    "model_acc_df.loc[:,'test'] = model_acc_df.trial >= 160\n",
    "# make name unique in case someone is comparing different simulation runum_seeds\n"
   ]
  },
  {
   "attachments": {},
   "cell_type": "markdown",
   "metadata": {},
   "source": [
    "# plot results from the above run of your custom simulation"
   ]
  },
  {
   "cell_type": "code",
   "execution_count": 3,
   "metadata": {},
   "outputs": [
    {
     "ename": "NameError",
     "evalue": "name 'model_acc_df' is not defined",
     "output_type": "error",
     "traceback": [
      "\u001b[0;31m---------------------------------------------------------------------------\u001b[0m",
      "\u001b[0;31mNameError\u001b[0m                                 Traceback (most recent call last)",
      "\u001b[1;32m/Users/rosskempner/Desktop/Documents/Research/compmem/csw_paper_final/new_simulation_sandbox.ipynb Cell 6\u001b[0m in \u001b[0;36m<cell line: 74>\u001b[0;34m()\u001b[0m\n\u001b[1;32m     <a href='vscode-notebook-cell:/Users/rosskempner/Desktop/Documents/Research/compmem/csw_paper_final/new_simulation_sandbox.ipynb#W4sZmlsZQ%3D%3D?line=70'>71</a>\u001b[0m \u001b[39mdef\u001b[39;00m \u001b[39mbeeswarm_modelEML\u001b[39m(sim_name):\n\u001b[1;32m     <a href='vscode-notebook-cell:/Users/rosskempner/Desktop/Documents/Research/compmem/csw_paper_final/new_simulation_sandbox.ipynb#W4sZmlsZQ%3D%3D?line=71'>72</a>\u001b[0m   beeswarm_model(sim_name,condstr\u001b[39m=\u001b[39m\u001b[39m'\u001b[39m\u001b[39mcond_int>=2\u001b[39m\u001b[39m'\u001b[39m)\n\u001b[0;32m---> <a href='vscode-notebook-cell:/Users/rosskempner/Desktop/Documents/Research/compmem/csw_paper_final/new_simulation_sandbox.ipynb#W4sZmlsZQ%3D%3D?line=73'>74</a>\u001b[0m model_acc_df\u001b[39m.\u001b[39mloc[:,\u001b[39m'\u001b[39m\u001b[39mcond_int\u001b[39m\u001b[39m'\u001b[39m] \u001b[39m=\u001b[39m model_acc_df\u001b[39m.\u001b[39mcond\n\u001b[1;32m     <a href='vscode-notebook-cell:/Users/rosskempner/Desktop/Documents/Research/compmem/csw_paper_final/new_simulation_sandbox.ipynb#W4sZmlsZQ%3D%3D?line=74'>75</a>\u001b[0m model_states_df\u001b[39m.\u001b[39mloc[:,\u001b[39m'\u001b[39m\u001b[39mcond_int\u001b[39m\u001b[39m'\u001b[39m] \u001b[39m=\u001b[39m model_states_df\u001b[39m.\u001b[39mcond\n\u001b[1;32m     <a href='vscode-notebook-cell:/Users/rosskempner/Desktop/Documents/Research/compmem/csw_paper_final/new_simulation_sandbox.ipynb#W4sZmlsZQ%3D%3D?line=75'>76</a>\u001b[0m model_acc_df\u001b[39m.\u001b[39mcond \u001b[39m=\u001b[39m model_acc_df\u001b[39m.\u001b[39mcond\u001b[39m.\u001b[39mapply(\u001b[39mlambda\u001b[39;00m x: {\n\u001b[1;32m     <a href='vscode-notebook-cell:/Users/rosskempner/Desktop/Documents/Research/compmem/csw_paper_final/new_simulation_sandbox.ipynb#W4sZmlsZQ%3D%3D?line=76'>77</a>\u001b[0m   \u001b[39m0\u001b[39m:\u001b[39m'\u001b[39m\u001b[39mblocked\u001b[39m\u001b[39m'\u001b[39m,\u001b[39m1\u001b[39m:\u001b[39m'\u001b[39m\u001b[39minterleaved\u001b[39m\u001b[39m'\u001b[39m,\u001b[39m2\u001b[39m:\u001b[39m'\u001b[39m\u001b[39mearly\u001b[39m\u001b[39m'\u001b[39m,\u001b[39m3\u001b[39m:\u001b[39m'\u001b[39m\u001b[39mmiddle\u001b[39m\u001b[39m'\u001b[39m,\u001b[39m4\u001b[39m:\u001b[39m'\u001b[39m\u001b[39mlate\u001b[39m\u001b[39m'\u001b[39m\n\u001b[1;32m     <a href='vscode-notebook-cell:/Users/rosskempner/Desktop/Documents/Research/compmem/csw_paper_final/new_simulation_sandbox.ipynb#W4sZmlsZQ%3D%3D?line=77'>78</a>\u001b[0m }[x])\n",
      "\u001b[0;31mNameError\u001b[0m: name 'model_acc_df' is not defined"
     ]
    }
   ],
   "source": [
    "cLD = {\n",
    "  'blocked': ['green','blue', 'green','blue', 'red'],\n",
    "  'blocked_rep': ['green','blue', 'green','blue', 'red'],\n",
    "  'interleaved': ['gold','gold','gold','gold','red'],\n",
    "  'interleaved_rep': ['gold','gold','gold','gold','red'],\n",
    "  'inserted_early': ['blue','green','purple','purple','red'],\n",
    "  'early': ['blue','green','purple','purple','red'],\n",
    "  'inserted_early_rep': ['blue','green','purple','purple','red'],\n",
    "  'inserted_middle': ['purple','blue','green','purple','red'],\n",
    "  'middle': ['purple','blue','green','purple','red'],\n",
    "  'inserted_middle_rep': ['purple','blue','green','purple','red'],\n",
    "  'inserted_late': ['purple','purple','blue','green','red'],\n",
    "  'late': ['purple','purple','blue','green','red'],\n",
    "  'inserted_late_rep': ['purple','purple','blue','green','red'],\n",
    "  'explicit_interleaved': ['purple','purple','purple','purple','red'],\n",
    "}\n",
    "\n",
    "TITLES_ON = False\n",
    "condL = ['blocked','interleaved','early','middle','late']\n",
    "\n",
    "def color_background(ax,cond):\n",
    "  for idx in range(5):\n",
    "      ax.fill_between(\n",
    "        np.arange(40*idx,41+40*idx),\n",
    "        0,1.05,\n",
    "        color=cLD[cond][idx],\n",
    "        alpha=0.2\n",
    "    )\n",
    "\n",
    "def lineplot_model(sim_name,condstr,cond_index,ax=None):\n",
    "  if not ax:\n",
    "    plt.figure(figsize=(12,6))\n",
    "    ax = plt.gca()\n",
    "  ax.axhline(0.5,c='k')\n",
    "  sns.lineplot(\n",
    "    data=model_acc_df.query(f\"gs=='{sim_name}'&{condstr}\"\n",
    "                  ).groupby(['trial','cond']).mean().reset_index(),\n",
    "    x='trial',y='acc',hue='cond',ax=ax\n",
    "  )\n",
    "  ax.set_ylabel('prediction accuracy')  \n",
    "  ax.legend().remove()\n",
    "  ax.set_title(sim_name+\" \" + condL[cond_index])\n",
    "  return ax\n",
    "  \n",
    "def lineplot_modelBI(sim_name,ax=None):\n",
    "  for ix in [0,1]:\n",
    "    ax=lineplot_model(sim_name,condstr=f'cond_int=={ix}' , cond_index = ix,ax=None)\n",
    "    color_background(ax,['blocked','interleaved'][ix])\n",
    "\n",
    "def lineplot_modelEML(sim_name):\n",
    "  for ix in [2,3,4]:\n",
    "    ax=lineplot_model(sim_name,condstr=f'cond_int=={ix}', cond_index = ix, ax=None)\n",
    "    color_background(ax,['early','middle','late'][ix-2])\n",
    "\n",
    "def beeswarm_model(sim_name,condstr, ax=None):\n",
    "  if not ax:\n",
    "    plt.figure(figsize=(12,6))\n",
    "    ax = plt.gca()\n",
    "  sns.violinplot(\n",
    "    data=model_acc_df.query(f\"gs=='{sim_name}'&test==True&{condstr}\"\n",
    "                  ).groupby(['seed','cond']).mean().reset_index(),\n",
    "    x='cond',y='acc',ax=ax\n",
    "  )\n",
    "  ax.set_ylabel('prediction accuracy')\n",
    "  ax.set_xlabel('condition')\n",
    "  ax.set_title(sim_name)\n",
    "\n",
    "def beeswarm_modelBI(sim_name):\n",
    "  beeswarm_model(sim_name,condstr='cond_int<2')\n",
    "\n",
    "def beeswarm_modelEML(sim_name):\n",
    "  beeswarm_model(sim_name,condstr='cond_int>=2')\n",
    "\n",
    "model_acc_df.loc[:,'cond_int'] = model_acc_df.cond\n",
    "model_states_df.loc[:,'cond_int'] = model_states_df.cond\n",
    "model_acc_df.cond = model_acc_df.cond.apply(lambda x: {\n",
    "  0:'blocked',1:'interleaved',2:'early',3:'middle',4:'late'\n",
    "}[x])\n",
    "\n",
    "lineplot_modelBI(sim_name)\n",
    "beeswarm_modelBI(sim_name)\n",
    "lineplot_modelEML(sim_name)\n",
    "beeswarm_modelEML(sim_name)"
   ]
  },
  {
   "cell_type": "code",
   "execution_count": null,
   "metadata": {},
   "outputs": [],
   "source": []
  }
 ],
 "metadata": {
  "interpreter": {
   "hash": "f5e79e0fd48c1a9b87f247dd33ea0ec3cdf8da9046cf42fe4b140ef0bef8afb1"
  },
  "kernelspec": {
   "display_name": "Python 3",
   "language": "python",
   "name": "python3"
  },
  "language_info": {
   "codemirror_mode": {
    "name": "ipython",
    "version": 3
   },
   "file_extension": ".py",
   "mimetype": "text/x-python",
   "name": "python",
   "nbconvert_exporter": "python",
   "pygments_lexer": "ipython3",
   "version": "3.8.13"
  }
 },
 "nbformat": 4,
 "nbformat_minor": 2
}
